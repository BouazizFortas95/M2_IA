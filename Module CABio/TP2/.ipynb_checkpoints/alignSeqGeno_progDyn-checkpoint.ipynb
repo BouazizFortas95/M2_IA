{
 "cells": [
  {
   "cell_type": "markdown",
   "metadata": {},
   "source": [
    "# 1. Exercices préliminaires : Dot plot"
   ]
  },
  {
   "cell_type": "markdown",
   "metadata": {},
   "source": [
    "## 1.1. Dot plot simple"
   ]
  },
  {
   "cell_type": "code",
   "execution_count": 1,
   "metadata": {},
   "outputs": [],
   "source": [
    "# -*- coding: utf-8 -*-\n",
    "\"\"\"\n",
    "Created on Mon Oct 10 22:24:47 2022\n",
    "\n",
    "@author: Bouaziz Fortas\n",
    "\"\"\"\n",
    "import matplotlib.pyplot as plt\n",
    "import numpy as np\n",
    "import itertools\n",
    "from Bio import pairwise2\n",
    "from Bio.pairwise2 import format_alignment"
   ]
  },
  {
   "cell_type": "code",
   "execution_count": 2,
   "metadata": {},
   "outputs": [],
   "source": [
    "# Init data\n",
    "#np.random.seed(42)\n",
    "#x = np.random.choice(['A', 'T', 'G', 'C'], 50)\n",
    "#y = np.random.choice(['T', 'A', 'C', 'G'], 50)\n",
    "x = ['G', 'T', 'T', 'U', 'I', 'P']\n",
    "y = ['E', 'G', 'T', 'P']"
   ]
  },
  {
   "cell_type": "code",
   "execution_count": 3,
   "metadata": {},
   "outputs": [
    {
     "name": "stdout",
     "output_type": "stream",
     "text": [
      "X :  ['G', 'T', 'T', 'U', 'I', 'P']\n",
      "y :  ['E', 'G', 'T', 'P']\n"
     ]
    }
   ],
   "source": [
    "print(\"X : \", x)\n",
    "print(\"y : \", y)"
   ]
  },
  {
   "cell_type": "code",
   "execution_count": 4,
   "metadata": {},
   "outputs": [],
   "source": [
    "def listPairValeur(list1, list2):\n",
    "    return [(i, j) for i in range(len(list1)) for j in range(len(list2)) if list1[i] == list2[j]]"
   ]
  },
  {
   "cell_type": "code",
   "execution_count": 5,
   "metadata": {},
   "outputs": [
    {
     "name": "stdout",
     "output_type": "stream",
     "text": [
      "[(0, 1), (1, 2), (2, 2), (5, 3)]\n"
     ]
    }
   ],
   "source": [
    "matches_index = listPairValeur(x, y)\n",
    "print(matches_index)"
   ]
  },
  {
   "cell_type": "code",
   "execution_count": 6,
   "metadata": {},
   "outputs": [],
   "source": [
    "def dotPlot(matches):\n",
    "    data = np.array(matches)\n",
    "    # print(data)\n",
    "    x, y = data.T\n",
    "    # print(\"X : \",x)\n",
    "    # print(\"Y : \",y)\n",
    "    plt.title(\"Dot plot\")\n",
    "    plt.xlabel(\"sequence A\")\n",
    "    plt.ylabel(\"sequence B\")\n",
    "    plt.scatter(x, y, c='blue', marker='x', s=20)\n",
    "    # plt.plot(x, y, color='red', linewidth=2)\n",
    "    plt.show()"
   ]
  },
  {
   "cell_type": "code",
   "execution_count": 7,
   "metadata": {},
   "outputs": [
    {
     "data": {
      "image/png": "[encoded data removed]",
      "text/plain": [
       "<Figure size 432x288 with 1 Axes>"
      ]
     },
     "metadata": {
      "needs_background": "light"
     },
     "output_type": "display_data"
    }
   ],
   "source": [
    "dotPlot(matches_index)"
   ]
  },
  {
   "cell_type": "markdown",
   "metadata": {},
   "source": [
    "## 1.2. Dot plot avec fenêtre glissante"
   ]
  },
  {
   "cell_type": "code",
   "execution_count": 8,
   "metadata": {},
   "outputs": [],
   "source": [
    "def dotplotWindow(seqA, seqB, window, minScore):\n",
    "    i=0\n",
    "    list_ = []\n",
    "    len_a = len(seqA)\n",
    "    len_b = len(seqB)\n",
    "    while i < (len_a-window+1):\n",
    "        j = 0\n",
    "        while j < (len_b-window+1) :\n",
    "            count=0\n",
    "            for z in range(0, window):\n",
    "                if (seqA[i + z] == seqB[j + z]):\n",
    "                    count = count + 1\n",
    "            if (count == minScore):\n",
    "                list_.append([i, j])\n",
    "                plt.scatter(i, j, c='blue', marker='x', s=20)\n",
    "            j = j + 1\n",
    "        i = i + 1\n",
    "   \n",
    "    print(list_)\n",
    "    plt.title(\"Dot plot\")\n",
    "    plt.xlabel(\"sequence A\")\n",
    "    plt.ylabel(\"sequence B\")\n",
    "    plt.show()\n",
    "    "
   ]
  },
  {
   "cell_type": "code",
   "execution_count": 36,
   "metadata": {},
   "outputs": [
    {
     "name": "stdout",
     "output_type": "stream",
     "text": [
      "[[1, 1], [1, 2], [2, 2], [4, 2]]\n"
     ]
    },
    {
     "data": {
      "image/png": "[encoded data removed]",
      "text/plain": [
       "<Figure size 432x288 with 1 Axes>"
      ]
     },
     "metadata": {
      "needs_background": "light"
     },
     "output_type": "display_data"
    }
   ],
   "source": [
    "dotplotWindow('GTTUIP', 'EGTP', 2,1)"
   ]
  },
  {
   "cell_type": "markdown",
   "metadata": {},
   "source": [
    "# 2. Programmation dynamique"
   ]
  },
  {
   "cell_type": "markdown",
   "metadata": {},
   "source": [
    "## 2.1. Needleman et Wunsch"
   ]
  },
  {
   "cell_type": "code",
   "execution_count": 29,
   "metadata": {},
   "outputs": [],
   "source": [
    "def algoNW(x, y, identité = 1, operant = 0, gap = 0):\n",
    "    len_x = len(x)\n",
    "    len_y = len(y)\n",
    "    \n",
    "    # Score optimal à chaque paire de caractères possible.\n",
    "    F = np.zeros((len_x + 1, len_y + 1))\n",
    "    F[:,0] = np.linspace(0, -len_x * gap, len_x + 1)\n",
    "    F[0,:] = np.linspace(0, -len_y * gap, len_y + 1)\n",
    "    #print(\"F : \\n\",F)\n",
    "    \n",
    "    # Pointeurs pour tracer un alignement optimal.\n",
    "    P = np.zeros((len_x + 1, len_y + 1))\n",
    "    P[:,0] = 3\n",
    "#     print(\"P : \\n\",P)\n",
    "    \n",
    "    # Score temporaire.\n",
    "    temp = np.zeros(3)\n",
    "    #print(\"Temp : \\n\",temp)\n",
    "    for i in range(len_x):\n",
    "        for j in range(len_y):\n",
    "            if x[i] == y[j]:\n",
    "                temp[0] = F[i,j] + identité\n",
    "            else:\n",
    "                temp[0] = F[i,j] - operant\n",
    "            temp[1] = F[i,j+1] - gap\n",
    "            temp[2] = F[i+1,j] - gap\n",
    "            tmax = np.max(temp)\n",
    "            F[i+1,j+1] = tmax\n",
    "            if temp[0] == tmax:\n",
    "                P[i+1,j+1] += 2\n",
    "            if temp[1] == tmax:\n",
    "                P[i+1,j+1] += 3\n",
    "            if temp[2] == tmax:\n",
    "                P[i+1,j+1] += 4\n",
    "    \n",
    "#     print(\"P : \\n\",P)\n",
    "    # Trace à travers un alignement optimal.\n",
    "    i = len_x\n",
    "    j = len_y\n",
    "    trace_x = []\n",
    "    trace_y = []\n",
    "    while i > 0 or j > 0:\n",
    "        if P[i,j] in [2, 5, 6, 9]:\n",
    "            trace_x.append(x[i-1])\n",
    "            trace_y.append(y[j-1])\n",
    "            i -= 1\n",
    "            j -= 1\n",
    "        elif P[i,j] in [3, 5, 7, 9]:\n",
    "            trace_x.append(x[i-1])\n",
    "            trace_y.append('-')\n",
    "            i -= 1\n",
    "        elif P[i,j] in [4, 6, 7, 9]:\n",
    "            trace_x.append('-')\n",
    "            trace_y.append(y[j-1])\n",
    "            j -= 1\n",
    "    # Inverser les traces\n",
    "    trace_x = ''.join(trace_x)[::-1]\n",
    "    trace_y = ''.join(trace_y)[::-1]\n",
    "    return '\\n'.join([trace_x, trace_y])\n"
   ]
  },
  {
   "cell_type": "code",
   "execution_count": 30,
   "metadata": {
    "scrolled": false
   },
   "outputs": [
    {
     "name": "stdout",
     "output_type": "stream",
     "text": [
      "ACGGGT\n",
      "AC--G-\n"
     ]
    }
   ],
   "source": [
    "S = ['A', 'C', 'G', 'G', 'G', 'T']\n",
    "T = ['A', 'C', 'G']\n",
    "print(algoNW(S, T))"
   ]
  },
  {
   "cell_type": "markdown",
   "metadata": {},
   "source": [
    "## 2.2. Smith et Waterman"
   ]
  },
  {
   "cell_type": "code",
   "execution_count": 22,
   "metadata": {},
   "outputs": [],
   "source": [
    "def matrix(a, b, match_score=1, gap=0):\n",
    "    H = np.zeros((len(a) + 1, len(b) + 1), np.int)\n",
    "\n",
    "    for i, j in itertools.product(range(1, H.shape[0]), range(1, H.shape[1])):\n",
    "        match = H[i - 1, j - 1] + (match_score if a[i - 1] == b[j - 1] else - match_score)\n",
    "        delete = H[i - 1, j] - gap\n",
    "        insert = H[i, j - 1] - gap\n",
    "        H[i, j] = max(match, delete, insert, 0)\n",
    "    return H"
   ]
  },
  {
   "cell_type": "code",
   "execution_count": 23,
   "metadata": {},
   "outputs": [],
   "source": [
    "def traceback(H, b, b_='', old_i=0):\n",
    "    # flip H to get index of **last** occurrence of H.max() with np.argmax()\n",
    "    H_flip = np.flip(np.flip(H, 0), 1)\n",
    "    i_, j_ = np.unravel_index(H_flip.argmax(), H_flip.shape)\n",
    "    i, j = np.subtract(H.shape, (i_ + 1, j_ + 1))  # (i, j) are **last** indexes of H.max()\n",
    "    if H[i, j] == 0:\n",
    "        return b_, j\n",
    "    b_ = b[j - 1] + '-' + b_ if old_i - i > 1 else b[j - 1] + b_\n",
    "    return traceback(H[0:i, 0:j], b, b_, i)\n"
   ]
  },
  {
   "cell_type": "code",
   "execution_count": 24,
   "metadata": {},
   "outputs": [],
   "source": [
    "def algoSW(a, b, match_score=1, gap_cost=0):\n",
    "    a, b = a.upper(), b.upper()\n",
    "    H = matrix(a, b, match_score, gap_cost)\n",
    "    b_, pos = traceback(H, b)\n",
    "    return pos, pos + len(b_)"
   ]
  },
  {
   "cell_type": "code",
   "execution_count": 25,
   "metadata": {},
   "outputs": [
    {
     "name": "stdout",
     "output_type": "stream",
     "text": [
      "[[0 0 0 0]\n",
      " [0 1 1 1]\n",
      " [0 1 2 2]\n",
      " [0 1 2 3]\n",
      " [0 1 2 3]\n",
      " [0 1 2 3]\n",
      " [0 1 2 3]]\n",
      "('ACG', 0)\n",
      "ACG\n"
     ]
    }
   ],
   "source": [
    "print(matrix(S, T))\n",
    "H = matrix(S, T)\n",
    "print(traceback(H, S))\n",
    "s = 'ACGGGT'\n",
    "t = 'ACG'\n",
    "start, end = algoSW(s, t)\n",
    "print(s[start:end])"
   ]
  },
  {
   "cell_type": "markdown",
   "metadata": {},
   "source": [
    "## 2.3. Bibliothèque BioPython\n",
    "#### BioPython est un ensemble d'outils développés en Python et dédiés à la manipulation de données de biologie moléculaire"
   ]
  },
  {
   "cell_type": "code",
   "execution_count": null,
   "metadata": {},
   "outputs": [],
   "source": [
    "def algimentsGlobal(s, t):\n",
    "    print(\"********* Aligments Global : *********\")\n",
    "    alignments = pairwise2.align.globalxx(s, t)\n",
    "    for a in alignments:\n",
    "        print(format_alignment(*a))"
   ]
  },
  {
   "cell_type": "code",
   "execution_count": null,
   "metadata": {},
   "outputs": [],
   "source": [
    "algimentsGlobal(s,t)"
   ]
  },
  {
   "cell_type": "code",
   "execution_count": null,
   "metadata": {},
   "outputs": [],
   "source": [
    "def algimentsLocal(s, t):\n",
    "    print(\"********* Algiments Local : *********\")\n",
    "    alignments = pairwise2.align.localxx(s, t)\n",
    "    for l in alignments:\n",
    "        print(format_alignment(*l))"
   ]
  },
  {
   "cell_type": "code",
   "execution_count": null,
   "metadata": {},
   "outputs": [],
   "source": [
    "algimentsLocal(s,t)"
   ]
  }
 ],
 "metadata": {
  "kernelspec": {
   "display_name": "Python 3",
   "language": "python",
   "name": "python3"
  },
  "language_info": {
   "codemirror_mode": {
    "name": "ipython",
    "version": 3
   },
   "file_extension": ".py",
   "mimetype": "text/x-python",
   "name": "python",
   "nbconvert_exporter": "python",
   "pygments_lexer": "ipython3",
   "version": "3.8.5"
  }
 },
 "nbformat": 4,
 "nbformat_minor": 4
}
