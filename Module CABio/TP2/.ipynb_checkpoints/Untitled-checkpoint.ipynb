{
 "cells": [
  {
   "cell_type": "code",
   "execution_count": 1,
   "id": "d8c5b53d",
   "metadata": {},
   "outputs": [],
   "source": [
    "import numpy as np"
   ]
  },
  {
   "cell_type": "code",
   "execution_count": 8,
   "id": "8d700ca2",
   "metadata": {},
   "outputs": [],
   "source": [
    "def nw(x, y, match = 1, mismatch = 1, gap = 2):\n",
    "    nx = len(x) # length of first base sequence\n",
    "    ny = len(y) # length of second base sequence\n",
    "    \n",
    "    # Initialization process - forming the base matrix\n",
    "    F = np.zeros((nx + 1, ny + 1)) # an array \n",
    "    F[:,0] = np.linspace(0, -gap*nx, nx + 1)\n",
    "    F[0,:] = np.linspace(0, -gap*ny, ny + 1)\n",
    "    \n",
    "    # Pointers to trace through an optimal aligment.\n",
    "    P = np.zeros((nx + 1, ny + 1))\n",
    "    P[:,0] = 3\n",
    "    P[0,:] = 4\n",
    "    \n",
    "    t = np.zeros(3)\n",
    "    for i in range(nx):\n",
    "        for j in range(ny):\n",
    "         # Iteration step: take the max (inserting gap in first sequence, inserting gap in second sequence, match or mutation)\n",
    "            if x[i] == y[j]:\n",
    "                t[0] = F[i,j] + match\n",
    "            else:\n",
    "                t[0] = F[i,j] - mismatch\n",
    "\n",
    "            # Inserting gap in first sequence\n",
    "            t[1] = F[i,j+1] - gap\n",
    "            # Inserting gap in second sequence\n",
    "            t[2] = F[i+1,j] - gap\n",
    "            tmax = np.max(t)\n",
    "\n",
    "            F[i+1,j+1] = tmax\n",
    "            if t[0] == tmax:\n",
    "                P[i+1,j+1] += 2\n",
    "\n",
    "            # Higher weights for inserting gaps rather than matches/mismatches\n",
    "            if t[1] == tmax:\n",
    "                P[i+1,j+1] += 3\n",
    "            if t[2] == tmax:\n",
    "                P[i+1,j+1] += 4"
   ]
  },
  {
   "cell_type": "code",
   "execution_count": null,
   "id": "bae8ff5c",
   "metadata": {},
   "outputs": [],
   "source": []
  }
 ],
 "metadata": {
  "kernelspec": {
   "display_name": "Python 3 (ipykernel)",
   "language": "python",
   "name": "python3"
  },
  "language_info": {
   "codemirror_mode": {
    "name": "ipython",
    "version": 3
   },
   "file_extension": ".py",
   "mimetype": "text/x-python",
   "name": "python",
   "nbconvert_exporter": "python",
   "pygments_lexer": "ipython3",
   "version": "3.8.11"
  }
 },
 "nbformat": 4,
 "nbformat_minor": 5
}
