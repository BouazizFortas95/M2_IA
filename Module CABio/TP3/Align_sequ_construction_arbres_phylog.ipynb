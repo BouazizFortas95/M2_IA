{
 "cells": [
  {
   "cell_type": "markdown",
   "metadata": {},
   "source": [
    "# Partie 1 : UPGMA"
   ]
  },
  {
   "cell_type": "markdown",
   "metadata": {},
   "source": [
    "##### A Quick Implementation of UPGMA (Unweighted Pair Group Method with Arithmetic Mean)\n",
    "\n"
   ]
  },
  {
   "cell_type": "code",
   "execution_count": 1,
   "metadata": {},
   "outputs": [],
   "source": [
    "def get_lowest(matrix):\n",
    "    min_cell = float(\"inf\")\n",
    "    x, y = -1, -1\n",
    "    for i in range(len(matrix)):\n",
    "        for j in range(len(matrix[i])):\n",
    "            if matrix[i][j] < min_cell:\n",
    "                min_cell = matrix[i][j]\n",
    "                x, y = i, j\n",
    "    return x, y"
   ]
  },
  {
   "cell_type": "code",
   "execution_count": 2,
   "metadata": {},
   "outputs": [],
   "source": [
    "def concate_labels(lab, a, b):\n",
    "    if b < a:\n",
    "        a, b = b, a\n",
    "    lab[a] = \"(\" + lab[a] + \",\" + lab[b] + \")\"\n",
    "    del lab[b]"
   ]
  },
  {
   "cell_type": "code",
   "execution_count": 3,
   "metadata": {},
   "outputs": [],
   "source": [
    "def join_table(table, a, b):\n",
    "    if b < a:\n",
    "        a, b = b, a\n",
    "\n",
    "    row = []\n",
    "    for i in range(0, a):\n",
    "        row.append((table[a][i] + table[b][i])/2)\n",
    "    table[a] = row\n",
    "    \n",
    "    for i in range(a+1, b):\n",
    "        table[i][a] = (table[i][a]+table[b][i])/2\n",
    "    \n",
    "    for i in range(b+1, len(table)):\n",
    "        table[i][a] = (table[i][a]+table[i][b])/2\n",
    "        del table[i][b]\n",
    "    \n",
    "    del table[b]"
   ]
  },
  {
   "cell_type": "code",
   "execution_count": 4,
   "metadata": {},
   "outputs": [],
   "source": [
    "def UPGMA(matrix, lab):\n",
    "    while len(lab) > 1:\n",
    "        x, y = get_lowest(matrix)\n",
    "        join_table(matrix, x, y)\n",
    "        concate_labels(lab, x, y)\n",
    "    return lab[0]"
   ]
  },
  {
   "cell_type": "code",
   "execution_count": 5,
   "metadata": {},
   "outputs": [],
   "source": [
    "def alpha_labels(start, end):\n",
    "    labels = []\n",
    "    for i in range(ord(start), ord(end)+1):\n",
    "        labels.append(chr(i))\n",
    "    return labels"
   ]
  },
  {
   "cell_type": "markdown",
   "metadata": {},
   "source": [
    "##### Initialzing data and applic the UPGMA Algo"
   ]
  },
  {
   "cell_type": "code",
   "execution_count": 6,
   "metadata": {},
   "outputs": [],
   "source": [
    "M_labels = alpha_labels(\"A\", \"D\")   #A through D\n",
    "M = [\n",
    "    [],                       #A\n",
    "    [17],                      #B\n",
    "    [21, 12],                   #C\n",
    "    [27, 18, 14],                #D\n",
    "    ]"
   ]
  },
  {
   "cell_type": "code",
   "execution_count": 7,
   "metadata": {},
   "outputs": [
    {
     "data": {
      "text/plain": [
       "'(A,((B,C),D))'"
      ]
     },
     "execution_count": 7,
     "metadata": {},
     "output_type": "execute_result"
    }
   ],
   "source": [
    "UPGMA(M, M_labels)"
   ]
  },
  {
   "cell_type": "markdown",
   "metadata": {},
   "source": [
    "# Partie 2 : alignements simples et multiples"
   ]
  },
  {
   "cell_type": "markdown",
   "metadata": {},
   "source": [
    "##### 2.1. Read data from fasta file"
   ]
  },
  {
   "cell_type": "code",
   "execution_count": 8,
   "metadata": {},
   "outputs": [
    {
     "name": "stdout",
     "output_type": "stream",
     "text": [
      "sp|P04083|ANXA1_HUMAN\n",
      "MAMVSEFLKQAWFIENEEQEYVQTVKSSKG\n",
      "sp|P07355|ANXA2_HUMAN\n",
      "MSTVHEILCKLSLEGDHSTPPSAYGSVKAY\n",
      "sp|P08133|ANXA6_HUMAN\n",
      "MAKPAQGAKYRGSIHDFPGFDPNQDAEALY\n",
      "sp|Q3ZCQ2|AX2R_HUMAN\n",
      "MEQHFLGCVKRAWDSAEVAPEPQPPPIVSS\n"
     ]
    }
   ],
   "source": [
    "prot_dict = {}\n",
    "with open(\"Annexin1-2-6-2r.fasta\", \"r\") as fasta_file:\n",
    "    prot_id = \"\"\n",
    "    for line in fasta_file:\n",
    "        if line.startswith(\">\"):\n",
    "            prot_id = line[1:].split()[0]\n",
    "            prot_dict[prot_id] = \"\"\n",
    "        else:\n",
    "            prot_dict[prot_id] += line.strip()\n",
    "    for id in prot_dict:\n",
    "        print(id)\n",
    "        print(prot_dict[id][:30])"
   ]
  },
  {
   "cell_type": "code",
   "execution_count": 9,
   "metadata": {
    "scrolled": true
   },
   "outputs": [],
   "source": [
    "p1 = prot_dict[\"sp|P04083|ANXA1_HUMAN\"]\n",
    "p2 = prot_dict[\"sp|P07355|ANXA2_HUMAN\"]\n",
    "p6 = prot_dict[\"sp|P08133|ANXA6_HUMAN\"]\n",
    "p2r = prot_dict[\"sp|Q3ZCQ2|AX2R_HUMAN\"]"
   ]
  },
  {
   "cell_type": "markdown",
   "metadata": {},
   "source": [
    "#### 2.2. BLOSUM-50"
   ]
  },
  {
   "cell_type": "code",
   "execution_count": 10,
   "metadata": {},
   "outputs": [
    {
     "name": "stderr",
     "output_type": "stream",
     "text": [
      "C:\\Anaconda3\\lib\\site-packages\\Bio\\SubsMat\\__init__.py:126: BiopythonDeprecationWarning: Bio.SubsMat has been deprecated, and we intend to remove it in a future release of Biopython. As an alternative, please consider using Bio.Align.substitution_matrices as a replacement, and contact the Biopython developers if you still need the Bio.SubsMat module.\n",
      "  warnings.warn(\n"
     ]
    }
   ],
   "source": [
    "from Bio.SubsMat import MatrixInfo as matlist\n",
    "from Bio import pairwise2, AlignIO, Phylo"
   ]
  },
  {
   "cell_type": "code",
   "execution_count": null,
   "metadata": {},
   "outputs": [],
   "source": [
    "# print(help(Bio))\n",
    "# print(help(matlist))"
   ]
  },
  {
   "cell_type": "code",
   "execution_count": 11,
   "metadata": {},
   "outputs": [],
   "source": [
    "def alignement_simple(matrix, p1_, p2_):\n",
    "    insertion = -10\n",
    "    deletion = -3\n",
    "    al = pairwise2.align.globalds(p1_, p2_, matrix, insertion, deletion)[0]\n",
    "    return al"
   ]
  },
  {
   "cell_type": "code",
   "execution_count": 12,
   "metadata": {},
   "outputs": [
    {
     "name": "stdout",
     "output_type": "stream",
     "text": [
      "\n",
      "RESULT SCORE :   1086.0\n",
      "\n",
      "------------------------- Clustal Formating :  -------------------------\n",
      "PROTINE 01 = \n",
      " MAMVSEFLKQAWFIENEEQEYVQTVKSSKGGPGSAVSPYPTFNPSSDVAALHKAIMVKGVDEATIIDILTKRNNAQRQQIKAAYLQETGKPLDETLKKALTGHLEEVVLALLKTPAQFDADELRAAMKGLGTDEDTLIEILASRTNKEIRDINRVYREELKRDLAKDITSDTSGDFRNALLSLAKGDRSEDFGV-NEDLADSDARALYEAGERRKGTDVNVFNTILTTRSYPQLRRVFQKYTKYSKHDMNKVLDLELKGDIEKCLTAIVKCATSKPAFFAEKLHQAMKGVGTRHKALIRIMVSRSEIDMNDIKAFYQKMYGISLCQAILDETKGDYEKILVALCGGN-\n",
      "PROTINE 02 = \n",
      " MSTVHEILCK-LSLEGDH----STPPSAYG----SVKAYTNFDAERDALNIETAIKTKGVDEVTIVNILTNRSNAQRQDIAFAYQRRTKKELASALKSALSGHLETVILGLLKTPAQYDASELKASMKGLGTDEDSLIEIICSRTNQELQEINRVYKEMYKTDLEKDIISDTSGDFRKLMVALAKGRRAEDGSVIDYELIDQDARDLYDAGVKRKGTDVPKWISIMTERSVPHLQKVFDRYKSYSPYDMLESIRKEVKGDLENAFLNLVQCIQNKPLYFADRLYDSMKGKGTRDKVLIRIMVSRSEVDMLKIRSEFKRKYGKSLYYYIQQDTKGDYQKALLYLCGGDD\n"
     ]
    }
   ],
   "source": [
    "matrix50=matlist.blosum50\n",
    "# print(\"BLOSUM-50 : \", matrix)\n",
    "hp1, hp2, score, begin, end = alignement_simple(matrix50, p1, p2)\n",
    "print(\"\\nRESULT SCORE :  \", score)\n",
    "print(\"\\n------------------------- Clustal Formating :  -------------------------\")\n",
    "print(\"PROTINE 01 = \\n\",hp1.format('clustal'))\n",
    "print(\"PROTINE 02 = \\n\",hp2.format('clustal'))\n"
   ]
  },
  {
   "cell_type": "markdown",
   "metadata": {},
   "source": [
    "#### 2.3. BLOSUM-80"
   ]
  },
  {
   "cell_type": "code",
   "execution_count": 13,
   "metadata": {
    "scrolled": true
   },
   "outputs": [
    {
     "name": "stdout",
     "output_type": "stream",
     "text": [
      "\n",
      "RESULT SCORE :   843.0\n"
     ]
    }
   ],
   "source": [
    "matrix80=matlist.blosum80\n",
    "hp1, hp2, score, begin, end = alignement_simple(matrix80, p1, p2)\n",
    "print(\"\\nRESULT SCORE :  \", score)"
   ]
  },
  {
   "cell_type": "markdown",
   "metadata": {},
   "source": [
    "#### 2.4. Calcule Taux"
   ]
  },
  {
   "cell_type": "code",
   "execution_count": 14,
   "metadata": {},
   "outputs": [],
   "source": [
    "def get_taux(x, y, longeur):\n",
    "    inc=0\n",
    "    for i, j in zip(x, y):\n",
    "        if i==j:\n",
    "            inc=inc+1\n",
    "    return inc/longeur"
   ]
  },
  {
   "cell_type": "code",
   "execution_count": 15,
   "metadata": {
    "scrolled": true
   },
   "outputs": [
    {
     "name": "stdout",
     "output_type": "stream",
     "text": [
      "Taux :  0.5202312138728323\n"
     ]
    }
   ],
   "source": [
    "print(\"Taux : \", get_taux(hp1, hp2, len(p1)))"
   ]
  },
  {
   "cell_type": "markdown",
   "metadata": {},
   "source": [
    "#### 2.5. Effectuer l’alignement multiple"
   ]
  },
  {
   "cell_type": "code",
   "execution_count": 16,
   "metadata": {},
   "outputs": [],
   "source": [
    "# Open and initiate the Distance Calculator using the Identity model \n",
    "from Bio.Phylo.TreeConstruction import DistanceCalculator \n",
    "calculator = DistanceCalculator('identity')"
   ]
  },
  {
   "cell_type": "code",
   "execution_count": 17,
   "metadata": {
    "scrolled": true
   },
   "outputs": [
    {
     "name": "stdout",
     "output_type": "stream",
     "text": [
      "<class 'Bio.Align.MultipleSeqAlignment'>\n"
     ]
    }
   ],
   "source": [
    "# Open the alignment file as a MultipleSeqAlignment object \n",
    "with open(\"muscle.aln\",\"r\") as aln: \n",
    "    alignment = AlignIO.read(aln,\"clustal\")\n",
    "print(type(alignment))"
   ]
  },
  {
   "cell_type": "markdown",
   "metadata": {},
   "source": [
    "#### 2.6. Calculer la séquence consensus."
   ]
  },
  {
   "cell_type": "code",
   "execution_count": 18,
   "metadata": {},
   "outputs": [],
   "source": [
    "from Bio.Align import AlignInfo\n",
    "summary_align = AlignInfo.SummaryInfo(alignment)"
   ]
  },
  {
   "cell_type": "code",
   "execution_count": null,
   "metadata": {},
   "outputs": [],
   "source": [
    "# Calculating a quick consensus sequence\n",
    "consensus = summary_align.dumb_consensus()\n",
    "print(\"Consensus : \", consensus)"
   ]
  },
  {
   "cell_type": "markdown",
   "metadata": {},
   "source": [
    "#### 2.7. Charger et afficher l’arbre phylogénétique"
   ]
  },
  {
   "cell_type": "code",
   "execution_count": null,
   "metadata": {
    "scrolled": true
   },
   "outputs": [],
   "source": [
    "# Write the Distance Matrix \n",
    "distance_matrix = calculator.get_distance(alignment)\n",
    "print(distance_matrix)"
   ]
  },
  {
   "cell_type": "code",
   "execution_count": null,
   "metadata": {},
   "outputs": [],
   "source": [
    "# Open and initiate the Tree Constructor \n",
    "from Bio.Phylo.TreeConstruction import DistanceTreeConstructor\n",
    "constructor = DistanceTreeConstructor(calculator)"
   ]
  },
  {
   "cell_type": "code",
   "execution_count": null,
   "metadata": {},
   "outputs": [],
   "source": [
    "# Build the tree \n",
    "anexine_tree = constructor.build_tree(alignment)\n",
    "anexine_tree.rooted = True\n",
    "print(anexine_tree)"
   ]
  },
  {
   "cell_type": "code",
   "execution_count": null,
   "metadata": {},
   "outputs": [],
   "source": [
    "# Save the tree to a new file \n",
    "Phylo.write(anexine_tree, \"anexineTree.xml\", \"phyloxml\")"
   ]
  },
  {
   "cell_type": "code",
   "execution_count": null,
   "metadata": {
    "scrolled": true
   },
   "outputs": [],
   "source": [
    "# Import matplotlib and create a basic tree \n",
    "import matplotlib\n",
    "import matplotlib.pyplot as plt\n",
    "# fig = Phylo.draw(anexine_tree)\n",
    "fig = plt.figure(figsize=(13, 5), dpi=100) # create figure & set the size \n",
    "matplotlib.rc('font', size=12)              # fontsize of the leaf and node labels \n",
    "matplotlib.rc('xtick', labelsize=10)       # fontsize of the tick labels\n",
    "matplotlib.rc('ytick', labelsize=10)       # fontsize of the tick labels\n",
    "#turtle_tree.ladderize()\n",
    "axes = fig.add_subplot(1, 1, 1)\n",
    "Phylo.draw(anexine_tree, axes=axes)\n",
    "fig.savefig(\"Anexine Protine Famile\")"
   ]
  }
 ],
 "metadata": {
  "kernelspec": {
   "display_name": "Python 3",
   "language": "python",
   "name": "python3"
  },
  "language_info": {
   "codemirror_mode": {
    "name": "ipython",
    "version": 3
   },
   "file_extension": ".py",
   "mimetype": "text/x-python",
   "name": "python",
   "nbconvert_exporter": "python",
   "pygments_lexer": "ipython3",
   "version": "3.8.5"
  }
 },
 "nbformat": 4,
 "nbformat_minor": 4
}
